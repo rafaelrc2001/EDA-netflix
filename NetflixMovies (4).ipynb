{
 "cells": [
  {
   "cell_type": "code",
   "execution_count": null,
   "id": "804dfbb5-2220-451d-b927-10b2bdda4b7d",
   "metadata": {},
   "outputs": [
    {
     "name": "stdout",
     "output_type": "stream",
     "text": [
      "Warning: Cannot change to a different GUI toolkit: tk. Using notebook instead.\n"
     ]
    }
   ],
   "source": [
    "#import libraries\n",
    "%matplotlib inline\n",
    "%matplotlib notebook\n",
    "\n",
    "%matplotlib tk\n",
    "import pandas as pd\n",
    "import numpy as np \n",
    "import plotly.express as px\n",
    "import missingno as msno\n",
    "import matplotlib.pyplot as plt\n",
    "import plotly.graph_objects as go"
   ]
  },
  {
   "cell_type": "markdown",
   "id": "c015db5a-9852-458d-a16e-afc6af0edae3",
   "metadata": {},
   "source": [
    "## The objective of this notebook is to show some graphs that can be made by means of plotly using a dataset of netflix movies. Trying to find what is the type of movie that is most repeated in the dataset."
   ]
  },
  {
   "cell_type": "markdown",
   "id": "62a3440d-d268-41b9-9e1e-0df4ce6b2155",
   "metadata": {},
   "source": [
    "![hola](https://c.tenor.com/zQ6H2k7HwGcAAAAC/netflix-netflix-logo.gif)"
   ]
  },
  {
   "cell_type": "markdown",
   "id": "573c9582-55e2-46ca-ac2a-71de156a101c",
   "metadata": {},
   "source": [
    "### Netflix, Inc. is an American streaming platform and entertainment company. Located in Los Gatos (California), the company was created in 1997 and a year later it began its activity, offering a DVD rental service through the mail.3 Currently, Netflix participates in the production of audiovisual works, from the creation or acquisition of the product until its worldwide distribution."
   ]
  },
  {
   "cell_type": "markdown",
   "id": "63952195-f8f1-444c-a01f-72dfd3edb27f",
   "metadata": {},
   "source": [
    "### For more information about the company consult the following link on wikipedia [netflix](https://es.wikipedia.org/wiki/Netflix)\n"
   ]
  },
  {
   "cell_type": "code",
   "execution_count": null,
   "id": "250041d1-ad13-4461-841b-31f48a130a1e",
   "metadata": {},
   "outputs": [],
   "source": [
    "#read the df and extract the movies from the type column and create a new df\n",
    "df=pd.read_csv(\"C:/Users/rafae/OneDrive/Escritorio/Badededatosexcel/netflix_titles.csv\")\n",
    "movies=pd.DataFrame(df[df[\"type\"]==\"Movie\"])"
   ]
  },
  {
   "cell_type": "code",
   "execution_count": null,
   "id": "cbcd3132-56a8-4cac-a6df-cb033c37d587",
   "metadata": {},
   "outputs": [],
   "source": [
    "#Show the first 3 rows of the new df\n",
    "movies.head(3)"
   ]
  },
  {
   "cell_type": "markdown",
   "id": "9aebb5c5-99a2-4e98-b813-4fcd6f81465b",
   "metadata": {},
   "source": [
    "# Missing values"
   ]
  },
  {
   "cell_type": "code",
   "execution_count": null,
   "id": "6a4f912b-5c58-4746-a807-454f4664646d",
   "metadata": {},
   "outputs": [],
   "source": [
    "#create the visualization of the missing data using msno and matplotlib\n",
    "msno.bar(df,fontsize =10, sort = 'descending', figsize = (12,6))\n",
    "plt.title(\"MISSING VAUES\",fontsize=25)\n",
    "plt.show()"
   ]
  },
  {
   "cell_type": "code",
   "execution_count": null,
   "id": "bdf7e501-936b-49c4-bd16-7c378e8a0dad",
   "metadata": {},
   "outputs": [],
   "source": [
    "# Show columns with missing values\n",
    "movies[movies.columns[movies.isnull().any()]].isnull().sum()"
   ]
  },
  {
   "cell_type": "markdown",
   "id": "b18dbb85-617f-4dfe-b0dc-6b966f97fe93",
   "metadata": {},
   "source": [
    "# Replace values"
   ]
  },
  {
   "cell_type": "code",
   "execution_count": null,
   "id": "d998feb4-de84-4d9d-be7f-46fdabbfcb14",
   "metadata": {},
   "outputs": [],
   "source": [
    "#replace the missing values in the case of director and cast, since they are not so important, leave them as \"noavailable\" in the case of country\n",
    "#since it was netflix from the United States, I thought that most of the movies would be from that place, rating and duration, I replaced it with mode\n",
    "movies[\"director\"]=movies[\"director\"].fillna(\"NoAvailable\")\n",
    "movies[\"cast\"]=movies[\"cast\"].fillna(\"NoAvailable\")\n",
    "movies[\"country\"]=movies[\"country\"].fillna(\"United States\")\n",
    "movies[\"rating\"]=movies[\"rating\"].fillna(movies[\"rating\"].mode())\n",
    "movies[\"duration\"]=movies[\"duration\"].fillna(movies[\"duration\"].mode())"
   ]
  },
  {
   "cell_type": "code",
   "execution_count": null,
   "id": "93e12fb9-cadb-435d-b0df-be69f19b334e",
   "metadata": {},
   "outputs": [],
   "source": [
    "#Create new column from date_added with month, month name and year occupying dt\n",
    "movies[\"date_added\"]=pd.to_datetime(movies[\"date_added\"])\n",
    "movies[\"month_added\"]=movies[\"date_added\"].dt.month\n",
    "movies['month_name_added']=movies['date_added'].dt.month_name()\n",
    "movies['year_added'] = movies['date_added'].dt.year"
   ]
  },
  {
   "cell_type": "code",
   "execution_count": null,
   "id": "3ab6b843-4dd9-4a39-9fba-3fda3b100017",
   "metadata": {},
   "outputs": [],
   "source": [
    "# split the duration column into duration and min\n",
    "movies[[\"duration_min\",\"min\"]]=(movies[\"duration\"].str.split(\" \" , expand=True))"
   ]
  },
  {
   "cell_type": "code",
   "execution_count": null,
   "id": "23023fa7-3828-4790-9c7c-f681d5992339",
   "metadata": {},
   "outputs": [],
   "source": [
    "movies[\"duration_min\"]=movies[\"duration_min\"].fillna(movies[\"rating\"].mode())"
   ]
  },
  {
   "cell_type": "code",
   "execution_count": null,
   "id": "1ad27ef5-b56e-4bef-9764-44df9dfbbd7c",
   "metadata": {},
   "outputs": [],
   "source": [
    "#these columns have list values in some rows so what I do is create a new df to analyze each value in detail\n",
    "movies_listed_in = movies.set_index('title').listed_in.str.split(', ', expand=True).stack().reset_index(level=1, drop=True)\n",
    "movies_cast = movies.set_index('title').cast.str.split(', ', expand=True).stack().reset_index(level=1, drop=True)\n",
    "movies_director = movies.set_index('title').director.str.split(', ', expand=True).stack().reset_index(level=1, drop=True)\n",
    "movies_country = movies.set_index('title').country.str.split(', ', expand=True).stack().reset_index(level=1, drop=True)"
   ]
  },
  {
   "cell_type": "markdown",
   "id": "cc4a1fcf-00d6-4687-9913-69349342cca6",
   "metadata": {},
   "source": [
    "# column analysis"
   ]
  },
  {
   "cell_type": "code",
   "execution_count": null,
   "id": "e3e10efd-5311-45fa-8c5a-42ce354ec5d6",
   "metadata": {},
   "outputs": [],
   "source": [
    "df=movies\n",
    "fig = px.histogram(df, x=\"release_year\",color=\"release_year\",color_discrete_sequence=[\"aquamarine\"],title=\"Histogram of movies added by year\")\n",
    "fig.show()"
   ]
  },
  {
   "cell_type": "markdown",
   "id": "359aeb60-0079-4525-9000-586426ca7568",
   "metadata": {},
   "source": [
    "## Most of the movies were made after 2016, this means that netflix usually buys recent movies and almost doesn't buy movies from before 2010. This seems to be because netflix made its leap to fame around 2010 and from then on. growing more in popularity, which made him buy the movies of recent years."
   ]
  },
  {
   "cell_type": "code",
   "execution_count": null,
   "id": "abb482b5-e176-4f10-9fa4-1168e19aba93",
   "metadata": {},
   "outputs": [],
   "source": [
    "df = movies\n",
    "fig = px.box(df, x=\"release_year\",color_discrete_sequence=[\"blueviolet\"],title=\"Distribution of the years\")\n",
    "fig.show()"
   ]
  },
  {
   "cell_type": "markdown",
   "id": "0bbea9d8-2279-4b54-9ef9-63f3006f3e2b",
   "metadata": {},
   "source": [
    "## The oldest movie is from 1942 and the newest from 2021, most of the movies are distributed between 2012 and 2018, the average being 2016."
   ]
  },
  {
   "cell_type": "code",
   "execution_count": null,
   "id": "d5316742-4f2b-4283-8e00-637a2ea4fac9",
   "metadata": {},
   "outputs": [],
   "source": [
    "month=movies[\"month_name_added\"].value_counts()\n",
    "fig = px.bar(month, x=\"month_name_added\",color=\"month_name_added\",title=\"Added in months\",labels={\"index\":\"months\",\"duration_min\":\"counts\"})\n",
    "fig.show()"
   ]
  },
  {
   "cell_type": "markdown",
   "id": "d34294be-880e-4f14-9641-3babc6686975",
   "metadata": {},
   "source": [
    "## Most of the movies were added between July and they almost never add movies in February digging into data netflix prefers to upload their movies on holidays and weekends and that is when people have time to watch them and thus give them a great rating .February may be the one in which fewer movies are added because it has fewer days."
   ]
  },
  {
   "cell_type": "code",
   "execution_count": null,
   "id": "6a990fcd-986b-4405-a17b-5e3c3a63a5cf",
   "metadata": {},
   "outputs": [],
   "source": [
    "df1=pd.DataFrame(movies[\"duration_min\"].dropna().value_counts().reset_index())\n",
    "fig = px.histogram(df1, x=\"index\",y=\"duration_min\",color=\"duration_min\",color_discrete_sequence=[\"darkblue\"],labels={\"sum of duration_min\":\"count\",\"index\":\"Duration\"},title=\"Duration\")\n",
    "fig.show()"
   ]
  },
  {
   "cell_type": "markdown",
   "id": "74e0367a-0fd5-477a-9f1a-7eceb3b3c9a0",
   "metadata": {},
   "source": [
    "## Most of the movies last between 90 and 100 min, which is equivalent to around 1 hour 30 minutes. It is rare that there are movies that last more than 200 minutes. This will happen because the movies have found in 1:30 enough time to tell the plot and without letting the viewer get bored. Most people go to the movies for distraction and in a way they want to see concise stories but not so long, although there are cases in which the movies take around 2 hours and they are good, the normal thing is that they do not exceed 1 with 40 minutes."
   ]
  },
  {
   "cell_type": "code",
   "execution_count": null,
   "id": "887ce64c-908b-47ca-9eca-c908c6532be2",
   "metadata": {},
   "outputs": [],
   "source": [
    "df =pd.DataFrame(movies[\"duration_min\"].dropna().value_counts().reset_index())\n",
    "fig = px.violin(df, y=\"duration_min\", box=True, # draw box plot inside the violin\n",
    "                points='all', # can be 'outliers', or False\n",
    "                labels={\"index\":\"Duration\"},\n",
    "                title=\"Graphs of duration values in which netflix movies are distributed\"\n",
    "                \n",
    "               )\n",
    "fig.show()"
   ]
  },
  {
   "cell_type": "markdown",
   "id": "d1876cec-92e0-4ff0-9bac-e6ff30c63029",
   "metadata": {},
   "source": [
    "## In the count of the duration by movies we can notice that the maximum number of times that the duration is repeated is 152, that is, 152 movies have the same duration, although on average the movies share the same duration is 13, which It means that there are many movies that have different durations, most movies share the range of 13 to 39 times the same duration.\n",
    "## This tells us that most of the movies have a different duration time among themselves and that most of the studios or producers have an estimate of time which is the one that repeats in the duration of the movies that netflix adds ."
   ]
  },
  {
   "cell_type": "code",
   "execution_count": null,
   "id": "4aa87c8a-7cca-4f67-88a6-395daf7cd194",
   "metadata": {},
   "outputs": [],
   "source": [
    "df=movies_country.value_counts().reset_index()\n",
    "fig = px.pie(df, values=0 , names='index', title='Population country',labels={\"index\":\"country\",\"0\":\"counts\"})\n",
    "fig.update_traces(textposition='inside')\n",
    "fig.update_layout(uniformtext_minsize=12, uniformtext_mode='hide')\n",
    "fig.show()"
   ]
  },
  {
   "cell_type": "markdown",
   "id": "92297a64-74f1-4eb7-8dee-a1ccf1ad2862",
   "metadata": {},
   "source": [
    "## There are 121 countries that have added movies to netflix. Most of the movies are from the United States, which in addition to being the country of origin of netflix is also the third country that generates the most movies in the world, of which the majority are made in by hollywood. The second country that appears with 12.3% of the movies is India, the country that produces the most movies in the world. The third country that produced the most movies was United Kingdom."
   ]
  },
  {
   "cell_type": "code",
   "execution_count": null,
   "id": "f870d3ac-571d-467b-8ab1-79799a64afcc",
   "metadata": {},
   "outputs": [],
   "source": [
    "\n",
    "df=pd.DataFrame(movies_cast.value_counts().reset_index()[1:21])\n",
    "df=df.rename(columns={\"index\":\"cast\", 0:\"counts\"})\n",
    "fig = px.funnel(df, x='cast', y='counts',color_discrete_sequence=[\"chocolate\"],title=\"top 20 actors\")\n",
    "fig.show()\n"
   ]
  },
  {
   "cell_type": "markdown",
   "id": "7f1089bf-bc7a-4ee2-b538-725c460c9d8a",
   "metadata": {},
   "source": [
    "## Most of the cast appear only in one or two movies so I only took the 20 actors who have appeared in more movies than doing a separate investigation I could tell that the vast majority of them are from India. It is because India is the foreign country that contributes the most movies."
   ]
  },
  {
   "cell_type": "code",
   "execution_count": null,
   "id": "290f92f8-e9a2-4ceb-8bba-f8ae7a1da9b2",
   "metadata": {},
   "outputs": [],
   "source": [
    "df=pd.DataFrame(movies_listed_in.value_counts().reset_index())\n",
    "df=df.rename(columns={\"index\":\"Categories\", 0:\"counts\"})\n",
    "fig = px.bar(df, x=\"Categories\", y=\"counts\", color_discrete_sequence=[\"teal\"],title=\"Movies categories\")\n",
    "fig.show()"
   ]
  },
  {
   "cell_type": "markdown",
   "id": "72ab4b2a-ea21-4f05-9ac8-dc2166c2287e",
   "metadata": {},
   "source": [
    "## Most of the categories refer to foreign categories since 60% of the films that were added were filmed outside the United States"
   ]
  },
  {
   "cell_type": "code",
   "execution_count": null,
   "id": "ea369406-364f-4030-8f02-ee6867a3cac0",
   "metadata": {},
   "outputs": [],
   "source": [
    "df=pd.DataFrame(movies_director.value_counts().reset_index()[1:])\n",
    "df=df.rename(columns={\"index\":\"Directors\", 0:\"counts\"})\n",
    "fig = px.box(df, x=\"counts\",title=\"Number of films directed\")\n",
    "fig.show()"
   ]
  },
  {
   "cell_type": "markdown",
   "id": "43858158-0590-4992-8fa7-17cb5faaa94e",
   "metadata": {},
   "source": [
    "## Most directors have only directed one of the movies added while very few directors have directed more than 15 movies.\n",
    "## It seems that the same directors direct the vast majority of movies this could be because netflix likes those directors or it is due to the level of competition in the film industry worldwide since netflix publishes movies from all over the world and the same directors are the ones who direct most movies."
   ]
  },
  {
   "cell_type": "code",
   "execution_count": null,
   "id": "3058efa5-efc7-4331-bc9f-52937227b511",
   "metadata": {},
   "outputs": [],
   "source": [
    "df=pd.DataFrame(movies_director.value_counts().reset_index()[1:11])\n",
    "df=df.rename(columns={\"index\":\"Directors\", 0:\"counts\"})\n",
    "fig =px.pie(df, values=\"counts\" , names='Directors', title='10 directors',hole=.35)\n",
    "fig.show()"
   ]
  },
  {
   "cell_type": "markdown",
   "id": "978602dc-58d0-4b18-a098-548c36dceb94",
   "metadata": {},
   "source": [
    "## A sign that the same directors are the ones who direct could be seen in the top 10 there is not a single dominant director in addition to the fact that the percentages are not so different between that is, that among the directors with the most films they are all equally divided although they are from different countries India, Mexico, United States or United Kingdom"
   ]
  },
  {
   "cell_type": "markdown",
   "id": "cbda6fad-8e70-436f-90cc-6c9701d8a64d",
   "metadata": {},
   "source": [
    "# MULTI-VARIABLE ANALYSIS"
   ]
  },
  {
   "cell_type": "code",
   "execution_count": null,
   "id": "612855a9-55ff-436d-be5e-16f54bc99205",
   "metadata": {},
   "outputs": [],
   "source": [
    "df = movies[[\"release_year\",\"month_name_added\",\"duration\",\"rating\"]]\n",
    "fig = px.scatter_matrix(df)\n",
    "fig.show()"
   ]
  },
  {
   "cell_type": "markdown",
   "id": "71bf2865-d25e-459e-92fe-5927e9c461dd",
   "metadata": {},
   "source": [
    "## comparing different variables we can realize that there is no clear pattern between the dates and the categories."
   ]
  },
  {
   "cell_type": "code",
   "execution_count": null,
   "id": "82e46181-c305-410d-9659-084f0d49e183",
   "metadata": {},
   "outputs": [],
   "source": [
    "df = movies\n",
    "fig = px.density_heatmap(df, x=\"release_year\", y=\"rating\", marginal_x=\"histogram\", marginal_y=\"histogram\", text_auto=True)\n",
    "fig.show()"
   ]
  },
  {
   "cell_type": "markdown",
   "id": "d0aec582-b487-451a-88fd-3f388ee09815",
   "metadata": {},
   "source": [
    "## The category that has added the most movies is TV-MA followed by TV-14 and that most of these were added from 2017 we can see that in the year 2020-2021 neither UR movies nor NR movies have been added the latest movies NR were added in 2016-2017. Taking into account that Netflix has a TV-Ma rating as an adult category, we can see that most of the movies added to the catalog in the last year are in that category, it could be because that is the public that consumes netflix the most in addition to the following categories are content for adolescents and the least they add is content for children."
   ]
  },
  {
   "cell_type": "code",
   "execution_count": null,
   "id": "f85114cc-838e-44e4-94d9-4d67663b2875",
   "metadata": {},
   "outputs": [],
   "source": [
    "year_country2 = df.groupby('year_added')['country'].value_counts().reset_index(name='counts')\n",
    "\n",
    "fig = px.choropleth(year_country2, locations=\"country\", color=\"counts\", \n",
    "                    locationmode='country names',\n",
    "                    animation_frame='year_added',\n",
    "                    range_color=[0,200],\n",
    "                    color_continuous_scale=px.colors.sequential.OrRd\n",
    "                   )\n",
    "\n",
    "fig.update_layout(title='Comparison by country')\n",
    "fig.show()"
   ]
  },
  {
   "cell_type": "markdown",
   "id": "5ffd9535-812f-4cb7-8099-3d852eca9cd8",
   "metadata": {},
   "source": [
    "## The evolution of how the movies were added is captured on a map."
   ]
  },
  {
   "cell_type": "markdown",
   "id": "ef6d70fb-292a-4b14-b166-b25693f8a23c",
   "metadata": {},
   "source": [
    "# Rating added by years"
   ]
  },
  {
   "cell_type": "code",
   "execution_count": null,
   "id": "505090bc-2fbe-4257-a7e3-486e86884a16",
   "metadata": {},
   "outputs": [],
   "source": [
    "#children\n",
    "column=\"year_added\"\n",
    "kids = movies[movies[\"rating\"]==\"TV-Y7\"]\n",
    "kids = kids[column].value_counts().reset_index()\n",
    "kids = kids.rename(columns = {column : \"count\", \"index\" : column})\n",
    "kids = kids.sort_values(column)\n",
    "t1 = go.Scatter(x=kids[column], y=kids[\"count\"], name=\"Kids\", marker=dict(color=\"#EB2B11\"))\n",
    "data = [ t1]\n",
    "layout = go.Layout(title=\"Kids movies added from 2015-2021\", legend=dict(x=0.3, y=1.2, orientation=\"h\"))\n",
    "fig = go.Figure(data, layout=layout)\n",
    "fig.show()"
   ]
  },
  {
   "cell_type": "markdown",
   "id": "4959d710-eb63-4bdc-b359-e5e84bf1a9dd",
   "metadata": {},
   "source": [
    "## Children's movies have had an increase in the aggregation of movies every year except for 2018 in which it had a decline of 25% which was increased in the following year in addition to creating a new record of movies added until that year. It continued with the same number of movies added until the year 2021 where it added more movies than the movies that had been added in the previous two years together."
   ]
  },
  {
   "cell_type": "code",
   "execution_count": null,
   "id": "57ac1e73-68b5-4ff4-bbd1-cc3ad012363a",
   "metadata": {},
   "outputs": [],
   "source": [
    "column=\"year_added\"\n",
    "tv14 = movies[movies[\"rating\"]==\"TV-14\"]\n",
    "pg13 = movies[movies[\"rating\"]==\"PG-13\"]\n",
    "\n",
    "tv14 = tv14[column].value_counts().reset_index()\n",
    "tv14 = tv14.rename(columns = {column : \"count\", \"index\" : column})\n",
    "tv14 = tv14.sort_values(column)\n",
    "\n",
    "pg13 = pg13[column].value_counts().reset_index()\n",
    "pg13 = pg13.rename(columns = {column : \"count\", \"index\" : column})\n",
    "pg13 = pg13.sort_values(column)\n",
    "\n",
    "t1 = go.Scatter(x=tv14[column], y=tv14[\"count\"], name=\"TV-14\", marker=dict(color=\"#EB2B11\"))\n",
    "t2 = go.Scatter(x=pg13[column], y=pg13[\"count\"], name=\"PG-13\", marker=dict(color=\"#291D1B\"))\n",
    "\n",
    "data = [t1,t2]\n",
    "layout = go.Layout(title=\"Teens movies added from 2011-2021\", legend=dict(x=0.3, y=1.2, orientation=\"h\"))\n",
    "fig = go.Figure(data, layout=layout)\n",
    "fig.show()"
   ]
  },
  {
   "cell_type": "markdown",
   "id": "51cef584-3a18-46e4-bb8f-7e6ddad54cfd",
   "metadata": {},
   "source": [
    "## In movies for young people are TV-14 and PG-13 TV-14 movies were added since 2011 while PG-13 movies were added from 2015 have added much less PG-13 movies than TV-14 movies. In the year 2018 alone, more TV-14 movies were added than all the PG-14 movies up to that year.Although we can note that since 2018 the TV-14 movies that have been added have decreased"
   ]
  },
  {
   "cell_type": "code",
   "execution_count": null,
   "id": "5d28497d-b937-42fc-b73a-8ec9dde3ccc5",
   "metadata": {},
   "outputs": [],
   "source": [
    "column=\"year_added\"\n",
    "\n",
    "ur = movies[movies[\"rating\"]==\"UR\"]\n",
    "nr = movies[movies[\"rating\"]==\"NR\"]\n",
    "nc17 = movies[movies[\"rating\"]==\"NC-17\"]\n",
    "r = movies[movies[\"rating\"]==\"R\"]\n",
    "tvma = movies[movies[\"rating\"]==\"TV-MA\"]\n",
    "\n",
    "ur=ur[column].value_counts().reset_index()\n",
    "ur= ur.rename(columns = {column : \"count\", \"index\" : column})\n",
    "ur=ur.sort_values(column)\n",
    "\n",
    "nr = nr[column].value_counts().reset_index()\n",
    "nr = nr.rename(columns = {column : \"count\", \"index\" : column})\n",
    "nr = nr.sort_values(column)\n",
    "\n",
    "nc17 = nc17[column].value_counts().reset_index()\n",
    "nc17 = nc17.rename(columns = {column : \"count\", \"index\" : column})\n",
    "nc17 = nc17.sort_values(column)\n",
    "\n",
    "r = r[column].value_counts().reset_index()\n",
    "r = r.rename(columns = {column : \"count\", \"index\" : column})\n",
    "r = r.sort_values(column)\n",
    "\n",
    "tvma = tvma[column].value_counts().reset_index()\n",
    "tvma = tvma.rename(columns = {column : \"count\", \"index\" : column})\n",
    "tvma = tvma.sort_values(column)\n",
    "\n",
    "t1 = go.Scatter(x=ur[column], y=ur[\"count\"], name=\"UR\", marker=dict(color=\"#E75D0E\"))\n",
    "t2 = go.Scatter(x=nr[column], y=nr[\"count\"], name=\"NR\", marker=dict(color=\"#D3E70E\"))\n",
    "t3 = go.Scatter(x=nc17[column], y=nc17[\"count\"], name=\"NC-17\", marker=dict(color=\"#0EE4E7\"))\n",
    "t4 = go.Scatter(x=r[column], y=r[\"count\"], name=\"R\", marker=dict(color=\"#0E6AE7\")) \n",
    "t5 = go.Scatter(x=tvma[column], y=tvma[\"count\"], name=\"TV-MA\", marker=dict(color=\"#E70E77\")) \n",
    "\n",
    "data = [t1,t2,t3,t4,t5]\n",
    "layout = go.Layout(title=\"Adults movies added from 2011-2021\", legend=dict(x=0.3, y=1.2, orientation=\"h\"))\n",
    "fig = go.Figure(data, layout=layout)\n",
    "fig.show()"
   ]
  },
  {
   "cell_type": "markdown",
   "id": "a0fb016c-f337-43c6-8b9e-a19807812e21",
   "metadata": {},
   "source": [
    "## Most of the movies added are focused on TV-MA. The UR and NR categories stopped being added in 2019 while the TV-MA and R categories are more consistent in the fact that they still add those categories."
   ]
  },
  {
   "cell_type": "code",
   "execution_count": null,
   "id": "923afd1c-2112-420a-ac3a-3f3cdef29c43",
   "metadata": {},
   "outputs": [],
   "source": [
    "column=\"year_added\"\n",
    "\n",
    "ur = movies[movies[\"rating\"]==\"UR\"]\n",
    "nr = movies[movies[\"rating\"]==\"NR\"]\n",
    "nc17 = movies[movies[\"rating\"]==\"NC-17\"]\n",
    "r = movies[movies[\"rating\"]==\"R\"]\n",
    "tvma = movies[movies[\"rating\"]==\"TV-MA\"]\n",
    "tv14 = movies[movies[\"rating\"]==\"TV-14\"]\n",
    "pg13 = movies[movies[\"rating\"]==\"PG-13\"]\n",
    "kids = movies[movies[\"rating\"]==\"TV-Y7\"]\n",
    "\n",
    "\n",
    "ur=ur[column].value_counts().reset_index()\n",
    "ur= ur.rename(columns = {column : \"count\", \"index\" : column})\n",
    "ur=ur.sort_values(column)\n",
    "\n",
    "nr = nr[column].value_counts().reset_index()\n",
    "nr = nr.rename(columns = {column : \"count\", \"index\" : column})\n",
    "nr = nr.sort_values(column)\n",
    "\n",
    "nc17 = nc17[column].value_counts().reset_index()\n",
    "nc17 = nc17.rename(columns = {column : \"count\", \"index\" : column})\n",
    "nc17 = nc17.sort_values(column)\n",
    "\n",
    "r = r[column].value_counts().reset_index()\n",
    "r = r.rename(columns = {column : \"count\", \"index\" : column})\n",
    "r = r.sort_values(column)\n",
    "\n",
    "tvma = tvma[column].value_counts().reset_index()\n",
    "tvma = tvma.rename(columns = {column : \"count\", \"index\" : column})\n",
    "tvma = tvma.sort_values(column)\n",
    "\n",
    "tv14 = tv14[column].value_counts().reset_index()\n",
    "tv14 = tv14.rename(columns = {column : \"count\", \"index\" : column})\n",
    "tv14 = tv14.sort_values(column)\n",
    "\n",
    "pg13 = pg13[column].value_counts().reset_index()\n",
    "pg13 = pg13.rename(columns = {column : \"count\", \"index\" : column})\n",
    "pg13 = pg13.sort_values(column)\n",
    "\n",
    "\n",
    "kids = kids[column].value_counts().reset_index()\n",
    "kids = kids.rename(columns = {column : \"count\", \"index\" : column})\n",
    "kids = kids.sort_values(column)\n",
    "\n",
    "\n",
    "t1 = go.Scatter(x=ur[column], y=ur[\"count\"], name=\"UR\", marker=dict(color=\"#C7C7C7\"))\n",
    "t2 = go.Scatter(x=nr[column], y=nr[\"count\"], name=\"NR\", marker=dict(color=\"#C7C7C7\"))\n",
    "t3 = go.Scatter(x=nc17[column], y=nc17[\"count\"], name=\"NC-17\", marker=dict(color=\"#C7C7C7\"))\n",
    "t4 = go.Scatter(x=r[column], y=r[\"count\"], name=\"R\", marker=dict(color=\"#C7C7C7\")) \n",
    "t5 = go.Scatter(x=tvma[column], y=tvma[\"count\"], name=\"TV-MA\", marker=dict(color=\"#C7C7C7\")) \n",
    "t6 = go.Scatter(x=tv14[column], y=tv14[\"count\"], name=\"TV-14\", marker=dict(color=\"#291D1B\"))\n",
    "t7 = go.Scatter(x=pg13[column], y=pg13[\"count\"], name=\"PG-13\", marker=dict(color=\"#291D1B\"))\n",
    "t8 = go.Scatter(x=kids[column], y=kids[\"count\"], name=\"Kids\", marker=dict(color=\"#EB2B11\"))\n",
    "\n",
    "data = [t1,t2,t3,t4,t5,t6,t7,t8]\n",
    "layout = go.Layout(title=\"movies added \", legend=dict(x=0.3, y=1.2, orientation=\"h\"))\n",
    "fig = go.Figure(data, layout=layout)\n",
    "fig.show()"
   ]
  },
  {
   "cell_type": "markdown",
   "id": "dcc9d3be-238a-4a10-bce2-9724604d7158",
   "metadata": {},
   "source": [
    "## We can see that the children's category is the one with the fewest movies and they are very few compared to the movies that are added for teenagers and adults. The most popular categories are TV-14 and TV-MA, one for adults and one for teenagers."
   ]
  },
  {
   "cell_type": "markdown",
   "id": "7ea44ae9-964e-43ea-abbd-6c4e1352112d",
   "metadata": {},
   "source": [
    "## Conclusions: The most likely thing you will find on netflix is a US movie with an adult rating added between 2018 and 2020, starring Samuel L. Jackson or Adam Sandler. With an average duration of an hour and a half."
   ]
  }
 ],
 "metadata": {
  "kernelspec": {
   "display_name": "Python 3 (ipykernel)",
   "language": "python",
   "name": "python3"
  },
  "language_info": {
   "codemirror_mode": {
    "name": "ipython",
    "version": 3
   },
   "file_extension": ".py",
   "mimetype": "text/x-python",
   "name": "python",
   "nbconvert_exporter": "python",
   "pygments_lexer": "ipython3",
   "version": "3.8.12"
  }
 },
 "nbformat": 4,
 "nbformat_minor": 5
}
